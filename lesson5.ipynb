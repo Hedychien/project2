{
 "cells": [
  {
   "cell_type": "code",
   "execution_count": 4,
   "metadata": {},
   "outputs": [
    {
     "name": "stdout",
     "output_type": "stream",
     "text": [
      "Good morning!\n"
     ]
    }
   ],
   "source": [
    "print(\"Good morning!\")"
   ]
  },
  {
   "cell_type": "code",
   "execution_count": 3,
   "metadata": {},
   "outputs": [
    {
     "name": "stdout",
     "output_type": "stream",
     "text": [
      "What a beautiful day.\n"
     ]
    }
   ],
   "source": [
    "print(\"What a beautiful day.\")"
   ]
  },
  {
   "cell_type": "code",
   "execution_count": 2,
   "metadata": {},
   "outputs": [
    {
     "data": {
      "text/plain": [
       "0.9240679124103364"
      ]
     },
     "execution_count": 2,
     "metadata": {},
     "output_type": "execute_result"
    }
   ],
   "source": [
    "import random\n",
    "random.random()"
   ]
  },
  {
   "cell_type": "code",
   "execution_count": 5,
   "metadata": {},
   "outputs": [
    {
     "name": "stdout",
     "output_type": "stream",
     "text": [
      "2.03568711734981\n",
      "7.023627417483587\n"
     ]
    }
   ],
   "source": [
    "print(random.uniform(1,10))\n",
    "print(random.uniform(1,100))"
   ]
  },
  {
   "cell_type": "code",
   "execution_count": 16,
   "metadata": {},
   "outputs": [
    {
     "name": "stdout",
     "output_type": "stream",
     "text": [
      "2\n"
     ]
    }
   ],
   "source": [
    "random_value = random.randint(1,10)\n",
    "print(random_value)\n"
   ]
  },
  {
   "cell_type": "code",
   "execution_count": 25,
   "metadata": {},
   "outputs": [
    {
     "data": {
      "text/plain": [
       "1.7222620311823795"
      ]
     },
     "execution_count": 25,
     "metadata": {},
     "output_type": "execute_result"
    }
   ],
   "source": [
    "#產生小於1的隨機浮點數資料\n",
    "random.random()\n",
    "#指定範圍內產生指定範圍內的隨機浮點數資\n",
    "random.uniform(1,2)\n",
    "#指定範圍內產生指定範圍內的隨機整數資\n",
    "random.randint(1,2)"
   ]
  },
  {
   "cell_type": "code",
   "execution_count": 31,
   "metadata": {},
   "outputs": [
    {
     "name": "stdout",
     "output_type": "stream",
     "text": [
      "猜數字遊戲\n",
      "答錯了:(\n",
      "猜對了，答案是:2\n",
      "Game over!\n"
     ]
    }
   ],
   "source": [
    "min = 1\n",
    "max = 5\n",
    "random_value = random.randint(min,max)\n",
    "print(\"猜數字遊戲\")\n",
    "while True:\n",
    "    keyin = int(input(f\"猜數字遊戲{min}~{max}:\"))\n",
    "    if(keyin == random_value):\n",
    "        print(f\"猜對了，答案是:{random_value}\")\n",
    "        break\n",
    "    else:\n",
    "        print(\"答錯了:(\")\n",
    "print(\"Game over!\")"
   ]
  }
 ],
 "metadata": {
  "kernelspec": {
   "display_name": "Python 3.10.8 64-bit",
   "language": "python",
   "name": "python3"
  },
  "language_info": {
   "codemirror_mode": {
    "name": "ipython",
    "version": 3
   },
   "file_extension": ".py",
   "mimetype": "text/x-python",
   "name": "python",
   "nbconvert_exporter": "python",
   "pygments_lexer": "ipython3",
   "version": "3.10.8"
  },
  "orig_nbformat": 4,
  "vscode": {
   "interpreter": {
    "hash": "369f2c481f4da34e4445cda3fffd2e751bd1c4d706f27375911949ba6bb62e1c"
   }
  }
 },
 "nbformat": 4,
 "nbformat_minor": 2
}
