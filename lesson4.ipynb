{
 "cells": [
  {
   "cell_type": "code",
   "execution_count": 1,
   "metadata": {},
   "outputs": [
    {
     "name": "stdout",
     "output_type": "stream",
     "text": [
      "H\n",
      "e\n",
      "l\n",
      "l\n",
      "o\n",
      "!\n",
      " \n",
      "W\n",
      "o\n",
      "r\n",
      "l\n",
      "d\n",
      "!\n"
     ]
    }
   ],
   "source": [
    "#for in 迴圈 (明確知道執行幾次)\n",
    "for word in \"Hello! World!\":\n",
    "    print(word)\n"
   ]
  },
  {
   "cell_type": "code",
   "execution_count": 3,
   "metadata": {},
   "outputs": [
    {
     "name": "stdout",
     "output_type": "stream",
     "text": [
      "30\n"
     ]
    }
   ],
   "source": [
    "# = 最後才執行\n",
    "m = 10\n",
    "m = m + 20 \n",
    "print(m)"
   ]
  },
  {
   "cell_type": "code",
   "execution_count": 5,
   "metadata": {},
   "outputs": [
    {
     "name": "stdout",
     "output_type": "stream",
     "text": [
      "30\n"
     ]
    }
   ],
   "source": [
    "#複合指定運算子 (m直接帶入結果來作計算)\n",
    "m = 10\n",
    "m += 20\n",
    "print(m)"
   ]
  },
  {
   "cell_type": "code",
   "execution_count": 10,
   "metadata": {},
   "outputs": [
    {
     "name": "stdout",
     "output_type": "stream",
     "text": [
      "1~100:5050\n"
     ]
    }
   ],
   "source": [
    "#計算累加值\n",
    "n = int(input(\"請輸入正值:\"))\n",
    "sum = 0\n",
    "for i in range(1,n+1):\n",
    "    sum += i\n",
    "print(f\"1~{n}:{sum}\")"
   ]
  },
  {
   "cell_type": "code",
   "execution_count": 6,
   "metadata": {},
   "outputs": [
    {
     "name": "stdout",
     "output_type": "stream",
     "text": [
      "1*1\t1*2\t1*3\t1*4\t1*5\t1*6\t1*7\t1*8\t1*9\t\n",
      "2*1\t2*2\t2*3\t2*4\t2*5\t2*6\t2*7\t2*8\t2*9\t\n",
      "3*1\t3*2\t3*3\t3*4\t3*5\t3*6\t3*7\t3*8\t3*9\t\n",
      "4*1\t4*2\t4*3\t4*4\t4*5\t4*6\t4*7\t4*8\t4*9\t\n",
      "5*1\t5*2\t5*3\t5*4\t5*5\t5*6\t5*7\t5*8\t5*9\t\n",
      "6*1\t6*2\t6*3\t6*4\t6*5\t6*6\t6*7\t6*8\t6*9\t\n",
      "7*1\t7*2\t7*3\t7*4\t7*5\t7*6\t7*7\t7*8\t7*9\t\n",
      "8*1\t8*2\t8*3\t8*4\t8*5\t8*6\t8*7\t8*8\t8*9\t\n",
      "9*1\t9*2\t9*3\t9*4\t9*5\t9*6\t9*7\t9*8\t9*9\t\n"
     ]
    }
   ],
   "source": [
    "for i in range(1,10):\n",
    "    for j in range(1,10):\n",
    "        print(f\"{i}*{j}\",end=\"\\t\")\n",
    "    print()"
   ]
  }
 ],
 "metadata": {
  "kernelspec": {
   "display_name": "Python 3.10.8 64-bit",
   "language": "python",
   "name": "python3"
  },
  "language_info": {
   "codemirror_mode": {
    "name": "ipython",
    "version": 3
   },
   "file_extension": ".py",
   "mimetype": "text/x-python",
   "name": "python",
   "nbconvert_exporter": "python",
   "pygments_lexer": "ipython3",
   "version": "3.10.8"
  },
  "orig_nbformat": 4,
  "vscode": {
   "interpreter": {
    "hash": "369f2c481f4da34e4445cda3fffd2e751bd1c4d706f27375911949ba6bb62e1c"
   }
  }
 },
 "nbformat": 4,
 "nbformat_minor": 2
}
