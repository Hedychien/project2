{
 "cells": [
  {
   "cell_type": "code",
   "execution_count": 1,
   "metadata": {},
   "outputs": [
    {
     "name": "stdout",
     "output_type": "stream",
     "text": [
      "Hello! Python\n"
     ]
    }
   ],
   "source": [
    "print(\"Hello! Python\")"
   ]
  },
  {
   "cell_type": "code",
   "execution_count": 3,
   "metadata": {},
   "outputs": [
    {
     "data": {
      "text/plain": [
       "False"
      ]
     },
     "execution_count": 3,
     "metadata": {},
     "output_type": "execute_result"
    }
   ],
   "source": [
    "x=7\n",
    "x==5 #比較運算子\n"
   ]
  },
  {
   "cell_type": "code",
   "execution_count": 4,
   "metadata": {},
   "outputs": [
    {
     "data": {
      "text/plain": [
       "True"
      ]
     },
     "execution_count": 4,
     "metadata": {},
     "output_type": "execute_result"
    }
   ],
   "source": [
    "x==7"
   ]
  },
  {
   "cell_type": "code",
   "execution_count": 6,
   "metadata": {},
   "outputs": [
    {
     "data": {
      "text/plain": [
       "'85'"
      ]
     },
     "execution_count": 6,
     "metadata": {},
     "output_type": "execute_result"
    }
   ],
   "source": [
    "input(\"請輸入國文分數:\") #這樣key只完成一半，需用變數承接，才會傳出內容，不然不會傳出任何東西。"
   ]
  },
  {
   "cell_type": "code",
   "execution_count": 14,
   "metadata": {},
   "outputs": [
    {
     "name": "stdout",
     "output_type": "stream",
     "text": [
      "沒有複習\n",
      "不及格\n",
      "程式結束\n"
     ]
    }
   ],
   "source": [
    "chinese_str = input(\"請輸入國文分數:\")\n",
    "chinese_int = int(chinese_str)\n",
    "if chinese_int >=60:\n",
    "    print(f\"國文分數是{chinese_int}\") #字串插補變數(也就是在文字中插入變數，{}裡面的是變數)\n",
    "    print(\"及格\")\n",
    "else:\n",
    "    print(\"沒有複習\")\n",
    "    print(\"不及格\")\n",
    "print(\"程式結束\")  #if, else一定要對齊"
   ]
  },
  {
   "cell_type": "code",
   "execution_count": 16,
   "metadata": {},
   "outputs": [
    {
     "name": "stdout",
     "output_type": "stream",
     "text": [
      "優\n"
     ]
    }
   ],
   "source": [
    "'''\n",
    "90(含)~100分為優\n",
    "80(含)~89分為甲\n",
    "70(含)~79分為乙\n",
    "60(含)~69分為丙\n",
    "0(含)~59分為丁\n",
    "'''\n",
    "#多項選擇 \n",
    "chinese = int(input(\"國文分數\"))  #與上面程式一樣，但只用一串程式解決\n",
    "if chinese >=90:\n",
    "    print(\"優\")\n",
    "elif chinese >=80:\n",
    "    print(\"甲\")\n",
    "elif chinese >=70:\n",
    "    print(\"乙\") \n",
    "elif chinese >=60:\n",
    "    print(\"丙\")      \n",
    "else:\n",
    "    print(\"丁\")           "
   ]
  },
  {
   "cell_type": "code",
   "execution_count": 2,
   "metadata": {},
   "outputs": [
    {
     "data": {
      "text/plain": [
       "'\\n100000元打8折\\n50000元打85折\\n30000元打9折\\n10000元打95折\\n請輸入購買金額:130000\\n實付金額是104000.0元\\n'"
      ]
     },
     "execution_count": 2,
     "metadata": {},
     "output_type": "execute_result"
    }
   ],
   "source": [
    "'''\n",
    "100000元打8折\n",
    "50000元打85折\n",
    "30000元打9折\n",
    "10000元打95折\n",
    "請輸入購買金額:130000\n",
    "實付金額是104000.0元\n",
    "'''\n",
    "#功課 (未完待續)"
   ]
  },
  {
   "cell_type": "code",
   "execution_count": null,
   "metadata": {},
   "outputs": [],
   "source": []
  }
 ],
 "metadata": {
  "kernelspec": {
   "display_name": "Python 3.10.8 64-bit",
   "language": "python",
   "name": "python3"
  },
  "language_info": {
   "codemirror_mode": {
    "name": "ipython",
    "version": 3
   },
   "file_extension": ".py",
   "mimetype": "text/x-python",
   "name": "python",
   "nbconvert_exporter": "python",
   "pygments_lexer": "ipython3",
   "version": "3.10.8"
  },
  "orig_nbformat": 4,
  "vscode": {
   "interpreter": {
    "hash": "369f2c481f4da34e4445cda3fffd2e751bd1c4d706f27375911949ba6bb62e1c"
   }
  }
 },
 "nbformat": 4,
 "nbformat_minor": 2
}
