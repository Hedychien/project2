{
 "cells": [
  {
   "cell_type": "code",
   "execution_count": 2,
   "metadata": {},
   "outputs": [
    {
     "name": "stdout",
     "output_type": "stream",
     "text": [
      "獎金是:1000\n"
     ]
    }
   ],
   "source": [
    "#國文分數100 同時 數學分數100  獎金1000\n",
    "#國文分數100 或者 數學分數100  獎金500\n",
    "\n",
    "chinese = int(input(\"請輸入國文分數:\"))\n",
    "math = int(input(\"請輸入數學分數:\"))\n",
    "bonus = 0\n",
    "if chinese == 100 and math == 100:\n",
    "    bonus = 1000\n",
    "elif chinese == 100 or math == 100:\n",
    "    bonus = 500\n",
    "else:\n",
    "    bonus = 0\n",
    "\n",
    "print(f\"獎金是:{bonus}\")    "
   ]
  },
  {
   "cell_type": "code",
   "execution_count": 5,
   "metadata": {},
   "outputs": [
    {
     "name": "stdout",
     "output_type": "stream",
     "text": [
      "BMI=19.53\n",
      "正常範圍\n"
     ]
    }
   ],
   "source": [
    "#計算BMI\n",
    "height = eval(input(\"請輸入身高(公分):\"))\n",
    "weight = eval(input(\"請輸入體重(公斤):\"))\n",
    "\n",
    "bmi = weight / (height / 100) **2\n",
    "print(f\"BMI={bmi:.2f}\") #取值到小數點第2位:.2f\n",
    "\n",
    "if bmi < 18.5:\n",
    "    state = \"體重過輕\"\n",
    "elif bmi < 24:\n",
    "    state = \"正常範圍\"\n",
    "elif bmi < 27:\n",
    "    state = \"過重\"\n",
    "elif bmi < 30:\n",
    "    state = \"輕度肥胖\"\n",
    "elif bmi < 35:\n",
    "    state = \"中度肥胖\"\n",
    "else:\n",
    "    state = \"重度肥胖\"\n",
    "\n",
    "print(state)"
   ]
  }
 ],
 "metadata": {
  "kernelspec": {
   "display_name": "Python 3.10.8 64-bit",
   "language": "python",
   "name": "python3"
  },
  "language_info": {
   "codemirror_mode": {
    "name": "ipython",
    "version": 3
   },
   "file_extension": ".py",
   "mimetype": "text/x-python",
   "name": "python",
   "nbconvert_exporter": "python",
   "pygments_lexer": "ipython3",
   "version": "3.10.8"
  },
  "orig_nbformat": 4,
  "vscode": {
   "interpreter": {
    "hash": "369f2c481f4da34e4445cda3fffd2e751bd1c4d706f27375911949ba6bb62e1c"
   }
  }
 },
 "nbformat": 4,
 "nbformat_minor": 2
}
